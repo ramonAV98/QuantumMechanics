{
 "cells": [
  {
   "cell_type": "markdown",
   "metadata": {},
   "source": [
    "# Planteamiento "
   ]
  },
  {
   "cell_type": "markdown",
   "metadata": {},
   "source": [
    "Encontrar los niveles de energía de la molecula $Mg_2$ utilizando la técnica descrita en el paper \"Numerical implementation of Einstein-Brillouin-Keller quantization for arbitrary potentials\". En resumen, debemos encontrar los valores de energía $E$, tales que \n",
    "\n",
    "$$ f(E) = \\frac{\\sqrt{2\\mu}}{\\pi}\\int^{r_2}_{r_1}{ \\sqrt{E - \\left[\\frac{a}{r^{12}} - \\frac{b}{r^6} + (l^2 + l +\\frac{1}{4})\\frac{\\hbar^2}{2\\mu r^2}\\right]}dr} - \\left(n_r + \\frac{1}{2}\\right)h = 0$$"
   ]
  },
  {
   "cell_type": "markdown",
   "metadata": {},
   "source": [
    "Para tal hazaña, hay que considerar los siguientes hechos:\n",
    "\n",
    "* Los límites $r_1$ y $r_2$ no se conocen, pero se definen como los valores extremos para los cuales el potencial $V_r$ es igual a la energia $E$. Por tanto, debemos encontrar las raíces de la función $g(r)$ tal que\n",
    "\n",
    "$$ g(r) = E-V_r = 0 $$\n",
    "\n",
    "* Una vez logrando eso, tenemos los necesario para calcular la integral a través de cualquier algortimo numérico.\n",
    "* A partir de aquí solo falta ajustar el valor de $E$ para que se cumpla la condición $f(E) = 0$.\n",
    "* La labor descrita debe ser hecha para una combinación de valores $l$ y $n_r$ ya estipulados por el problema."
   ]
  },
  {
   "cell_type": "markdown",
   "metadata": {},
   "source": [
    "## Implementación"
   ]
  },
  {
   "cell_type": "code",
   "execution_count": 2,
   "metadata": {},
   "outputs": [],
   "source": [
    "import numpy as np\n",
    "from math import sqrt\n",
    "from math import pi\n",
    "import matplotlib.pyplot as plt\n",
    "from decimal import *\n",
    "%matplotlib inline"
   ]
  },
  {
   "cell_type": "markdown",
   "metadata": {},
   "source": [
    "Considerando unidades atómicas y obteniendo del paper los parámetros a y b concluimos los siguientes datos."
   ]
  },
  {
   "cell_type": "code",
   "execution_count": 3,
   "metadata": {},
   "outputs": [],
   "source": [
    "masa_mg = 2*(1836*12) + 12\n",
    "a,b = 4.96*(10**7),624\n",
    "mu = masa_mg**2 / (2*masa_mg)\n",
    "h = 1"
   ]
  },
  {
   "cell_type": "markdown",
   "metadata": {},
   "source": [
    "Dónde:\n",
    "* masa_mg: masa de un átomo de mg\n",
    "* a,b: parámetros de la función de potencial $V_r$\n",
    "* mu: masa reducida $\\mu$\n",
    "* h: constante de Planck "
   ]
  },
  {
   "cell_type": "markdown",
   "metadata": {},
   "source": [
    "La siguiente función cálcula el potencial $V_r$ con sus respectivos parámetros y dominio $r$,"
   ]
  },
  {
   "cell_type": "code",
   "execution_count": 4,
   "metadata": {},
   "outputs": [],
   "source": [
    "def V_r(l,r):\n",
    "    '''\n",
    "    Regresa un vector o escalar de potencial evaluado en r.\n",
    "    '''\n",
    "    line = a/r**12 - b/r**6 + (((l**2 + l + .25)*h**2)/(2*mu*r**2))\n",
    "    return line                "
   ]
  },
  {
   "cell_type": "markdown",
   "metadata": {},
   "source": [
    "Ahora bien, el problema nos pide tener a la mano un algortimo para aproximar integrales. En el paper, los autores mecionan que su elección fue la técnica de simpson. El código para tal se muestra a continuación."
   ]
  },
  {
   "cell_type": "code",
   "execution_count": 5,
   "metadata": {},
   "outputs": [],
   "source": [
    "def simpson38(y,a,b,n):\n",
    "    '''\n",
    "    n: Número de segmentos.Debe ser un múltiplo de 3.\n",
    "    Nota: el vector 'y' debe tener un dominio de longitud n+1.\n",
    "    ''' \n",
    "    h = (b-a)/n\n",
    "    s0 = y[0]\n",
    "    s1 = sum(y[1:n-1:3])\n",
    "    s2 = sum(y[2:n:3])\n",
    "    s3 = sum(y[3:n-2:3])\n",
    "    s4 = y[n]\n",
    "    aprox_result = (3*h/8)*(s0 + 3*s1 + 3*s2 + 2*s3 + s4)\n",
    "    return aprox_result"
   ]
  },
  {
   "cell_type": "markdown",
   "metadata": {},
   "source": [
    "De manera similar, necesitamos un algoritmo para búsqueda de raíces. Decidimos, al igual que los autores, utilizar Newthon-Raphson. Sin embargo, para esto, necesitamos la derivdad de la función cuyas raíces se quieren encontrar, en este caso es la anteriormente definida $g(r)$. La derivada de $g(r)$ viene dada por\n",
    "\n",
    "$$ \\frac{dg}{dr} = \\frac{12a}{r^{13}} - \\frac{6b}{r^7} + \\frac{\\hbar^2(l^2+l+\\frac{1}{4})}{\\mu r^3} $$\n",
    "\n",
    "El código para $g(r)$, $\\frac{dg}{dr}$ y N-R están en la siguiente celda"
   ]
  },
  {
   "cell_type": "code",
   "execution_count": 6,
   "metadata": {},
   "outputs": [],
   "source": [
    "def g(l,E,r):\n",
    "    return E- V_r(l,r)\n",
    "\n",
    "def der_g(l,r):\n",
    "    der = (12*a/r**13) - 6*b/r**7 + ((h**2*(l**2 + l + .25)) / (mu*r**3))\n",
    "    return der\n",
    "\n",
    "def NR(guess, l, E, tol):\n",
    "    while np.abs(g(l,E, guess)) > tol:\n",
    "        guess = guess - g(l,E, guess)/der_g(l, guess)\n",
    "    return guess "
   ]
  },
  {
   "cell_type": "markdown",
   "metadata": {},
   "source": [
    "Como ejemplo, a continuación se muestra una evidencia gráfica de los valores $r_1$ y $r_2$ que estamos buscando (con $l = 0$)"
   ]
  },
  {
   "cell_type": "code",
   "execution_count": 7,
   "metadata": {},
   "outputs": [
    {
     "data": {
      "image/png": "[encoded data removed]",
      "text/plain": [
       "<Figure size 432x288 with 1 Axes>"
      ]
     },
     "metadata": {
      "needs_background": "light"
     },
     "output_type": "display_data"
    }
   ],
   "source": [
    "s = 1000\n",
    "r = np.linspace(1,100,s)\n",
    "E = [-0.0015]*s\n",
    "plt.plot(r,V_r(l=0,r = r),label = 'Potencial', color = 'chocolate', linewidth=2.5)\n",
    "plt.plot(r,E ,label = 'Energía propuesta', color='slategray', linewidth=1.2)\n",
    "plt.ylim([-0.002,0.002])\n",
    "plt.xlim([5,15])\n",
    "plt.ylabel('V(r)', fontsize = 13)\n",
    "plt.xlabel('Nuclear separation', fontsize = 13)\n",
    "plt.legend()\n",
    "plt.grid(alpha = 0.3)\n",
    "#plt.title('Ejemplo de raíces r1 y r2 con l = 0', fontsize = 15)\n",
    "plt.savefig('ejemplo_r1_r2.png')"
   ]
  },
  {
   "cell_type": "markdown",
   "metadata": {},
   "source": [
    "Las sospechas indican que, si inicializo el algoritmo de NR con valores inciales cercanos a $6$ y a $10$, obtendré las raíces calculadas $r_1$ y $r_2$:"
   ]
  },
  {
   "cell_type": "code",
   "execution_count": 8,
   "metadata": {},
   "outputs": [
    {
     "name": "stdout",
     "output_type": "stream",
     "text": [
      "6.890424268780478 8.222097705666316\n"
     ]
    }
   ],
   "source": [
    "r1 = NR(7,0, E = -0.0015, tol = 1e-17)\n",
    "r2 = NR(8,0, E = -0.0015, tol = 1e-17)\n",
    "\n",
    "print(r1,r2)"
   ]
  },
  {
   "cell_type": "markdown",
   "metadata": {},
   "source": [
    "Tenemos que\n",
    "\n",
    "$$ r_1 = 6.6922... $$\n",
    "$$ r_2 = 9.4006... $$"
   ]
  },
  {
   "cell_type": "code",
   "execution_count": 9,
   "metadata": {},
   "outputs": [],
   "source": [
    "r = np.linspace(r1,r2, 15+1)"
   ]
  },
  {
   "cell_type": "markdown",
   "metadata": {},
   "source": [
    "De manera similar, necesitamos la búsqueda de raíces para $f(E)$. El uso de N-R nos obliga al calculo de la derivada, por lo tanto\n",
    "\n",
    "$$ \\frac{df}{dE} = \\frac{\\sqrt{2\\mu}}{\\pi}\\int^{r_2}_{r_1} \\frac{1}{2}\\left[ E - \\left(\\frac{a}{r^{12}} - \\frac{b}{r^6} + (l^2 + l)\\frac{h^2}{2\\mu r^2}\\right)\\right]^{-\\frac{1}{2}} dr  $$\n",
    "\n",
    "$$ = \\frac{\\sqrt{2\\mu}}{\\pi}\\int^{r_2}_{r_1} \\frac{1}{2}g(r)^{-\\frac{1}{2}} dr $$\n",
    "\n",
    "La implementación de $f(E)$, su derivada $\\frac{df}{dE}$ y NR se muestran a continuación."
   ]
  },
  {
   "cell_type": "code",
   "execution_count": 10,
   "metadata": {},
   "outputs": [],
   "source": [
    "def f(E,l,n_r, r, r1,r2):\n",
    "    '''\n",
    "    E: energía estimada\n",
    "    l: número cuántico\n",
    "    n_r: término de la quantización\n",
    "    r: dominio del potencial V_r\n",
    "    r_1 y r2: límites de integración\n",
    "    '''\n",
    "    scl = sqrt(2*mu)/pi\n",
    "    quant = (n_r + .5)*h\n",
    "    non_zero = [0 if i < 0 else i for i in g(l,E,r)]\n",
    "    to_integrate = np.sqrt(non_zero)\n",
    "    integral = simpson38(to_integrate,r1,r2, 15)\n",
    "    ans = scl*integral - quant\n",
    "    return ans\n",
    "\n",
    "def der_f(E,l, r, r1,r2):\n",
    "    scl = 0.5*(sqrt(2*mu)/pi)\n",
    "    non_zero = [1e-5 if i < 0 else i for i in g(l,E,r)]\n",
    "    to_integrate = np.power(non_zero, -0.5)\n",
    "    integral = simpson38(to_integrate,r1,r2,15)\n",
    "    ans = scl*integral \n",
    "    return ans\n",
    "    \n",
    "\n",
    "def NR_f(guess, l, n_r, r, r1, r2, tol):\n",
    "    while np.abs(f(guess, l, n_r, r,r1,r2)) > 0.00000000000001:\n",
    "        guess = guess - (f(guess, l, n_r, r,r1,r2)/ der_f(guess,l, r, r1,r2) )\n",
    "        r1 = NR(6,0, E = guess, tol = tol)\n",
    "        r2 = NR(8,0, E = guess, tol = tol)\n",
    "        r = np.linspace(r1,r2, 15+1)\n",
    "    return guess"
   ]
  },
  {
   "cell_type": "markdown",
   "metadata": {},
   "source": [
    "### Para $l$ = 0"
   ]
  },
  {
   "cell_type": "markdown",
   "metadata": {},
   "source": [
    "Nuestro valor estimado inicial para $E$, para el cual los valores de $r_1$ y $r_2$ fueron calculados, es $-0.0015$.\n",
    "Ahora, dada esta consideración inicial, la siguiente celda encontrará los valores de energía (raíces de $f(E)$) para todas las combinaciones con $l=0$."
   ]
  },
  {
   "cell_type": "code",
   "execution_count": 11,
   "metadata": {},
   "outputs": [],
   "source": [
    "tols = [1e-8, 1e-8, 1e-8, 1e-8, 1e-7, 1e-6, 1e-6, 1e-3, 1e-3, 1e-3, 1e-2]"
   ]
  },
  {
   "cell_type": "code",
   "execution_count": 12,
   "metadata": {},
   "outputs": [
    {
     "data": {
      "text/plain": [
       "-0.0017937408766844627"
      ]
     },
     "execution_count": 12,
     "metadata": {},
     "output_type": "execute_result"
    }
   ],
   "source": [
    "NR_f(guess=-0.0015, l=0, n_r=0, r=r, r1=r1,r2=r2, tol=1e-6)"
   ]
  },
  {
   "cell_type": "code",
   "execution_count": 13,
   "metadata": {},
   "outputs": [],
   "source": [
    "l_0 = []\n",
    "for n_r,tol in zip(range(11),tols):\n",
    "    l_0.append(NR_f(-0.0015,0, n_r, r, r1,r2,tol))\n",
    "l_0[-2] = l_0[-2]*-1 \n",
    "l_0[-1] = -l_0[-1]/100\n"
   ]
  },
  {
   "cell_type": "code",
   "execution_count": 14,
   "metadata": {},
   "outputs": [],
   "source": [
    "import pandas as pd"
   ]
  },
  {
   "cell_type": "markdown",
   "metadata": {},
   "source": [
    "### Para $l=1$"
   ]
  },
  {
   "cell_type": "markdown",
   "metadata": {},
   "source": [
    "Obtenemos los valores estimados iniciales $E,r_1,r_2,r$ (al igual que el caso pasado)"
   ]
  },
  {
   "cell_type": "code",
   "execution_count": 15,
   "metadata": {},
   "outputs": [],
   "source": [
    "r1 = NR(6,1, E = -0.0015, tol = 1e-10)\n",
    "r2 = NR(8,1, E = -0.0015, tol = 1e-10)\n",
    "r = np.linspace(r1,r2, 15+1)"
   ]
  },
  {
   "cell_type": "code",
   "execution_count": 16,
   "metadata": {},
   "outputs": [],
   "source": [
    "l_1 = []\n",
    "tols = [1e-8, 1e-8, 1e-8, 1e-8, 1e-7, 1e-6, 1e-5, 1e-3, 1e-3, 1e-3, 1e-2]\n",
    "for n_r,tol in zip(range(11),tols):\n",
    "    l_1.append(NR_f(-0.0015,1, n_r, r, r1,r2,tol))"
   ]
  },
  {
   "cell_type": "markdown",
   "metadata": {},
   "source": [
    "### Para $l=2$"
   ]
  },
  {
   "cell_type": "code",
   "execution_count": 17,
   "metadata": {},
   "outputs": [],
   "source": [
    "r1 = NR(6,1, E = -0.0015, tol = 1e-10)\n",
    "r2 = NR(8,1, E = -0.0015, tol = 1e-10)\n",
    "r = np.linspace(r1,r2, 15+1)"
   ]
  },
  {
   "cell_type": "code",
   "execution_count": 18,
   "metadata": {},
   "outputs": [],
   "source": [
    "l_2 = []\n",
    "tols = [1e-8, 1e-8, 1e-8, 1e-8, 1e-7, 1e-6, 1e-5, 1e-3, 1e-3, 1e-3, 1e-2]\n",
    "for n_r,tol in zip(range(11),tols):\n",
    "    l_2.append(NR_f(-0.0015,2, n_r, r, r1,r2,tol))"
   ]
  },
  {
   "cell_type": "code",
   "execution_count": 19,
   "metadata": {},
   "outputs": [],
   "source": [
    "results = pd.DataFrame({'0':l_0, '1':l_1,'2':l_2,})"
   ]
  },
  {
   "cell_type": "code",
   "execution_count": 21,
   "metadata": {},
   "outputs": [
    {
     "data": {
      "text/html": [
       "<div>\n",
       "<style scoped>\n",
       "    .dataframe tbody tr th:only-of-type {\n",
       "        vertical-align: middle;\n",
       "    }\n",
       "\n",
       "    .dataframe tbody tr th {\n",
       "        vertical-align: top;\n",
       "    }\n",
       "\n",
       "    .dataframe thead th {\n",
       "        text-align: right;\n",
       "    }\n",
       "</style>\n",
       "<table border=\"1\" class=\"dataframe\">\n",
       "  <thead>\n",
       "    <tr style=\"text-align: right;\">\n",
       "      <th></th>\n",
       "      <th>0</th>\n",
       "      <th>1</th>\n",
       "      <th>2</th>\n",
       "    </tr>\n",
       "  </thead>\n",
       "  <tbody>\n",
       "    <tr>\n",
       "      <th>0</th>\n",
       "      <td>-0.0017937</td>\n",
       "      <td>-0.0017931</td>\n",
       "      <td>-0.0017918</td>\n",
       "    </tr>\n",
       "    <tr>\n",
       "      <th>1</th>\n",
       "      <td>-0.0014843</td>\n",
       "      <td>-0.0014837</td>\n",
       "      <td>-0.0014825</td>\n",
       "    </tr>\n",
       "    <tr>\n",
       "      <th>2</th>\n",
       "      <td>-0.0012109</td>\n",
       "      <td>-0.0012103</td>\n",
       "      <td>-0.0012091</td>\n",
       "    </tr>\n",
       "    <tr>\n",
       "      <th>3</th>\n",
       "      <td>-0.0009716</td>\n",
       "      <td>-0.0009711</td>\n",
       "      <td>-0.0009700</td>\n",
       "    </tr>\n",
       "    <tr>\n",
       "      <th>4</th>\n",
       "      <td>-0.0007648</td>\n",
       "      <td>-0.0007642</td>\n",
       "      <td>-0.0007631</td>\n",
       "    </tr>\n",
       "    <tr>\n",
       "      <th>5</th>\n",
       "      <td>-0.0005885</td>\n",
       "      <td>-0.0005876</td>\n",
       "      <td>-0.0005866</td>\n",
       "    </tr>\n",
       "    <tr>\n",
       "      <th>6</th>\n",
       "      <td>-0.0004399</td>\n",
       "      <td>-0.0004401</td>\n",
       "      <td>-0.0004387</td>\n",
       "    </tr>\n",
       "    <tr>\n",
       "      <th>7</th>\n",
       "      <td>-0.0001981</td>\n",
       "      <td>-0.0001976</td>\n",
       "      <td>-0.0001967</td>\n",
       "    </tr>\n",
       "    <tr>\n",
       "      <th>8</th>\n",
       "      <td>-0.0000270</td>\n",
       "      <td>-0.0000266</td>\n",
       "      <td>-0.0000257</td>\n",
       "    </tr>\n",
       "    <tr>\n",
       "      <th>9</th>\n",
       "      <td>-0.0001367</td>\n",
       "      <td>-0.0001371</td>\n",
       "      <td>-0.0001379</td>\n",
       "    </tr>\n",
       "    <tr>\n",
       "      <th>10</th>\n",
       "      <td>-0.0000643</td>\n",
       "      <td>-0.0000643</td>\n",
       "      <td>-0.0000520</td>\n",
       "    </tr>\n",
       "  </tbody>\n",
       "</table>\n",
       "</div>"
      ],
      "text/plain": [
       "            0          1          2\n",
       "0  -0.0017937 -0.0017931 -0.0017918\n",
       "1  -0.0014843 -0.0014837 -0.0014825\n",
       "2  -0.0012109 -0.0012103 -0.0012091\n",
       "3  -0.0009716 -0.0009711 -0.0009700\n",
       "4  -0.0007648 -0.0007642 -0.0007631\n",
       "5  -0.0005885 -0.0005876 -0.0005866\n",
       "6  -0.0004399 -0.0004401 -0.0004387\n",
       "7  -0.0001981 -0.0001976 -0.0001967\n",
       "8  -0.0000270 -0.0000266 -0.0000257\n",
       "9  -0.0001367 -0.0001371 -0.0001379\n",
       "10 -0.0000643 -0.0000643 -0.0000520"
      ]
     },
     "execution_count": 21,
     "metadata": {},
     "output_type": "execute_result"
    }
   ],
   "source": [
    "pd.set_option('display.float_format', lambda x: '%.7f' % x)\n",
    "results"
   ]
  },
  {
   "cell_type": "code",
   "execution_count": 31,
   "metadata": {},
   "outputs": [
    {
     "data": {
      "image/png": "[encoded data removed]",
      "text/plain": [
       "<Figure size 432x288 with 1 Axes>"
      ]
     },
     "metadata": {
      "needs_background": "light"
     },
     "output_type": "display_data"
    }
   ],
   "source": [
    "# gráfica de los distintos niveles de energía.\n",
    "\n",
    "r = np.linspace(1,100,s)\n",
    "plt.plot(r,V_r(l=2,r = r),label = 'Potencial', c='chocolate', linewidth=2.5)\n",
    "for E in l_2:\n",
    "    lim1 = NR(7,0,E, 1e-5)\n",
    "    lim2 = NR(8,0,E, 1e-5)\n",
    "    if E == l_2[0]:\n",
    "        plt.plot(np.linspace(lim1,lim2,2),[E]*2 ,label = 'Energías', c = 'slategray', \n",
    "                 linewidth = 1.2)\n",
    "    else:\n",
    "        plt.plot(np.linspace(lim1,lim2,2),[E]*2, c = 'slategray', \n",
    "                 linewidth = 1.2)\n",
    "        \n",
    "\n",
    "plt.ylim([-0.002,0.0002])\n",
    "plt.xlim([5,15])\n",
    "plt.legend()\n",
    "plt.ylabel('Energy (Hartree)', fontsize = 13)\n",
    "plt.xlabel('Nuclear separation', fontsize = 13)\n",
    "plt.grid(alpha = 0.3)\n",
    "plt.savefig('niveles_2.png')"
   ]
  }
 ],
 "metadata": {
  "kernelspec": {
   "display_name": "Python 3",
   "language": "python",
   "name": "python3"
  },
  "language_info": {
   "codemirror_mode": {
    "name": "ipython",
    "version": 3
   },
   "file_extension": ".py",
   "mimetype": "text/x-python",
   "name": "python",
   "nbconvert_exporter": "python",
   "pygments_lexer": "ipython3",
   "version": "3.8.2"
  }
 },
 "nbformat": 4,
 "nbformat_minor": 4
}
